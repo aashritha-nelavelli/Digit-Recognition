{
 "cells": [
  {
   "cell_type": "code",
   "execution_count": 8,
   "metadata": {
    "id": "Z2k5JRTzIvdF"
   },
   "outputs": [],
   "source": [
    "import matplotlib.pyplot as plt\n",
    "import tensorflow as tf\n",
    "from tensorflow.keras.datasets import mnist\n",
    "from tensorflow.keras.models import Sequential\n",
    "from tensorflow.keras.layers import Conv2D, MaxPooling2D, Flatten, Dense, BatchNormalization,Dropout,ActivityRegularization\n",
    "from tensorflow.keras.optimizers import Adam, Nadam, RMSprop\n",
    "from tensorflow.keras.utils import to_categorical\n",
    "from tensorflow.keras.applications import MobileNetV3Small\n",
    "from tensorflow.keras.regularizers import l1,l2\n",
    "import numpy as np\n",
    "\n",
    "\n",
    "op=[Adam,\n",
    "    RMSprop]\n",
    "# Load and preprocess the MNIST dataset\n",
    "(x_train, y_train), (x_test, y_test) = mnist.load_data()\n",
    "x_train, x_test = x_train[:50000], x_train[50000:]\n",
    "y_train, y_test = y_train[:50000], y_train[50000:]\n",
    "x_train = x_train.reshape(-1, 28, 28, 1).astype('float32') / 255.0\n",
    "x_test = x_test.reshape(-1, 28, 28, 1).astype('float32') / 255.0\n",
    "y_train = to_categorical(y_train, num_classes=10)\n",
    "y_test = to_categorical(y_test, num_classes=10)\n",
    "\n",
    "# Function to create and train a model\n",
    "def train_model(model, optimizer, name):\n",
    "    print(f\"Training {name} model...\")\n",
    "    model.compile(optimizer=optimizer,\n",
    "                  loss='categorical_crossentropy',\n",
    "                  metrics=['accuracy'])\n",
    "    history = model.fit(x_train, y_train, batch_size=64, epochs=5, validation_data=(x_test, y_test))\n",
    "    test_loss, test_accuracy = model.evaluate(x_test, y_test)\n",
    "    print(optimizer,f'Test loss ({name}): {test_loss:.4f}, Test accuracy ({name}): {test_accuracy:.4f}')\n",
    "    print()\n",
    "\n",
    "    # Plot accuracy and loss curves\n",
    "    plt.figure(figsize=(12, 4))\n",
    "    plt.subplot(1, 2, 1)\n",
    "    plt.plot(history.history['accuracy'], label='Train Accuracy')\n",
    "    plt.plot(history.history['val_accuracy'], label='Validation Accuracy')\n",
    "    plt.xlabel('Epoch')\n",
    "    plt.ylabel('Accuracy')\n",
    "    plt.legend()\n",
    "\n",
    "    plt.subplot(1, 2, 2)\n",
    "    plt.plot(history.history['loss'], label='Train Loss')\n",
    "    plt.plot(history.history['val_loss'], label='Validation Loss')\n",
    "    plt.xlabel('Epoch')\n",
    "    plt.ylabel('Loss')\n",
    "    plt.legend()\n",
    "    plt.show()\n",
    "\n",
    "    return history\n"
   ]
  },
  {
   "cell_type": "code",
   "execution_count": 9,
   "metadata": {
    "colab": {
     "base_uri": "https://localhost:8080/"
    },
    "id": "SQ_ZQn6atQyC",
    "outputId": "7a0e74fa-6a49-4491-e8e3-133eb609f1c0"
   },
   "outputs": [
    {
     "name": "stdout",
     "output_type": "stream",
     "text": [
      "Total training images 50000 Total testing images 10000\n"
     ]
    }
   ],
   "source": [
    "total_training_images = x_train.shape[0]\n",
    "total_testing_images = x_test.shape[0]\n",
    "print(\"Total training images\",total_training_images,\"Total testing images\",total_testing_images)"
   ]
  },
  {
   "cell_type": "code",
   "execution_count": 10,
   "metadata": {
    "colab": {
     "base_uri": "https://localhost:8080/"
    },
    "id": "VaFwmCATwzKI",
    "outputId": "ad581a84-ab9b-4871-b0c7-9925588c4b5a"
   },
   "outputs": [
    {
     "name": "stdout",
     "output_type": "stream",
     "text": [
      "Number of images per class:\n",
      "Class 5: 4506\n",
      "Class 0: 4932\n",
      "Class 4: 4859\n",
      "Class 1: 5678\n",
      "Class 9: 4988\n",
      "Class 2: 4968\n",
      "Class 3: 5101\n",
      "Class 6: 4951\n",
      "Class 7: 5175\n",
      "Class 8: 4842\n"
     ]
    }
   ],
   "source": [
    "import numpy as np\n",
    "\n",
    "def print_image_counts_per_class(x_train, y_train):\n",
    "\n",
    "  class_counts = {}\n",
    "  for i in range(len(x_train)):\n",
    "    class_label = np.argmax(y_train[i])\n",
    "    if class_label not in class_counts:\n",
    "      class_counts[class_label] = 0\n",
    "    class_counts[class_label] += 1\n",
    "\n",
    "  print('Number of images per class:')\n",
    "  for class_label, count in class_counts.items():\n",
    "    print(f'Class {class_label}: {count}')\n",
    "\n",
    "# Print the number of images per class for the MNIST training dataset\n",
    "print_image_counts_per_class(x_train, y_train)\n"
   ]
  },
  {
   "cell_type": "code",
   "execution_count": null,
   "metadata": {
    "id": "sJ9yFhe5nvMt"
   },
   "outputs": [],
   "source": [
    "# create and train customized CNN\n",
    "model = Sequential([\n",
    "    Conv2D(32, (3, 3), activation='relu', input_shape=(28, 28, 1)),\n",
    "    MaxPooling2D((2, 2)),\n",
    "    Conv2D(64, (3, 3), activation='relu'),\n",
    "    MaxPooling2D((2, 2)),\n",
    "    Conv2D(128, (3, 3), activation='relu'),\n",
    "    Flatten(),\n",
    "    Dense(256, activation='relu'),\n",
    "    Dense(10, activation='softmax')\n",
    "])\n",
    "for i in op:\n",
    "  train_model(model, i(learning_rate=0.01), \"Customized CNN Model\")\n"
   ]
  },
  {
   "cell_type": "code",
   "execution_count": null,
   "metadata": {
    "id": "EJAgZeM64lNj"
   },
   "outputs": [],
   "source": [
    "model.summary()"
   ]
  },
  {
   "cell_type": "code",
   "execution_count": null,
   "metadata": {
    "id": "y5LENF7v9SU2"
   },
   "outputs": [],
   "source": [
    "# create and train customized CNN (L1 Regularization)\n",
    "model = Sequential([\n",
    "    Conv2D(32, (3, 3), activation='relu', input_shape=(28, 28, 1), kernel_regularizer=l1(0.001)),\n",
    "    MaxPooling2D((2, 2)),\n",
    "    Conv2D(64, (3, 3), activation='relu', kernel_regularizer=l1(0.001)),\n",
    "    MaxPooling2D((2, 2)),\n",
    "    Conv2D(128, (3, 3), activation='relu', kernel_regularizer=l1(0.001)),\n",
    "    Flatten(),\n",
    "    Dense(256, activation='relu', kernel_regularizer=l1(0.001)),\n",
    "    Dense(10, activation='softmax')\n",
    "])\n",
    "for i in op:\n",
    "  train_model(model, i(learning_rate=0.01), \"Customized CNN Model\")"
   ]
  },
  {
   "cell_type": "code",
   "execution_count": null,
   "metadata": {
    "id": "yruet21s9sH3"
   },
   "outputs": [],
   "source": [
    "# create and train customized CNN (L2 Regularization)\n",
    "\n",
    "model = Sequential([\n",
    "    Conv2D(32, (3, 3), activation='relu', input_shape=(28, 28, 1), kernel_regularizer=l2(0.01)),\n",
    "    MaxPooling2D((2, 2)),\n",
    "    Conv2D(64, (3, 3), activation='relu', kernel_regularizer=l2(0.01)),\n",
    "    MaxPooling2D((2, 2)),\n",
    "    Conv2D(128, (3, 3), activation='relu', kernel_regularizer=l2(0.01)),\n",
    "    Flatten(),\n",
    "    Dense(256, activation='relu', kernel_regularizer=l2(0.01)),\n",
    "    Dense(10, activation='softmax')\n",
    "])\n",
    "for i in op:\n",
    "  train_model(model, i(learning_rate=0.01), \"Customized CNN Model\")"
   ]
  },
  {
   "cell_type": "code",
   "execution_count": null,
   "metadata": {
    "id": "otzus4k396Yc"
   },
   "outputs": [],
   "source": [
    "# create and train customized CNN (Drop Regularization)\n",
    "\n",
    "model = Sequential([\n",
    "    Conv2D(32, (3, 3), activation='relu', input_shape=(28, 28, 1)),\n",
    "    MaxPooling2D((2, 2)),\n",
    "    Conv2D(64, (3, 3), activation='relu'),\n",
    "    MaxPooling2D((2, 2)),\n",
    "    Conv2D(128, (3, 3), activation='relu'),\n",
    "    Flatten(),\n",
    "    Dense(256, activation='relu'),\n",
    "    Dropout(0.5),  # Dropout layer with a dropout rate of 0.5\n",
    "    Dense(10, activation='softmax')\n",
    "])\n",
    "for i in op:\n",
    "  train_model(model, i(learning_rate=0.01), \"Customized CNN Model\")"
   ]
  },
  {
   "cell_type": "code",
   "execution_count": null,
   "metadata": {
    "id": "ppw-jrj7b8IG"
   },
   "outputs": [],
   "source": [
    "# Create and train the LeNet-5 model\n",
    "lenet5_model = Sequential([\n",
    "    Conv2D(6, (5, 5), activation='relu', input_shape=(28, 28, 1)),\n",
    "    MaxPooling2D((2, 2)),\n",
    "    Conv2D(16, (5, 5), activation='relu'),\n",
    "    MaxPooling2D((2, 2)),\n",
    "    Flatten(),\n",
    "    Dense(120, activation='relu'),\n",
    "    Dense(84, activation='relu'),\n",
    "    Dense(10, activation='softmax')\n",
    "])\n",
    "\n",
    "for i in op:\n",
    "  train_model(lenet5_model, i(learning_rate=0.01), \"LeNet-5\")"
   ]
  },
  {
   "cell_type": "code",
   "execution_count": null,
   "metadata": {
    "id": "Gs08JWWfarmf"
   },
   "outputs": [],
   "source": [
    "# Create and train a simplified ResNet-like model\n",
    "resnet_like_model = Sequential([\n",
    "    Conv2D(32, (3, 3), activation='relu', input_shape=(28, 28, 1)),\n",
    "    BatchNormalization(),\n",
    "    Conv2D(32, (3, 3), activation='relu'),\n",
    "    BatchNormalization(),\n",
    "    MaxPooling2D((2, 2)),\n",
    "\n",
    "    Conv2D(64, (3, 3), activation='relu'),\n",
    "    BatchNormalization(),\n",
    "    Conv2D(64, (3, 3), activation='relu'),\n",
    "    BatchNormalization(),\n",
    "    MaxPooling2D((2, 2)),\n",
    "\n",
    "    Flatten(),\n",
    "    Dense(128, activation='relu'),\n",
    "    BatchNormalization(),\n",
    "    Dense(10, activation='softmax')\n",
    "])\n",
    "for i in op:\n",
    "  train_model(resnet_like_model, i(learning_rate=0.001), \"ResNet-like\")"
   ]
  },
  {
   "cell_type": "code",
   "execution_count": null,
   "metadata": {
    "id": "zdhPwXpPcPmF"
   },
   "outputs": [],
   "source": [
    "vgg16_model = Sequential([\n",
    "    Conv2D(64, (3, 3), activation='relu', padding='same', input_shape=(28, 28, 1)),\n",
    "    Conv2D(64, (3, 3), activation='relu', padding='same'),\n",
    "    MaxPooling2D((2, 2), strides=(2, 2)),\n",
    "\n",
    "    Conv2D(128, (3, 3), activation='relu', padding='same'),\n",
    "    Conv2D(128, (3, 3), activation='relu', padding='same'),\n",
    "    MaxPooling2D((2, 2), strides=(2, 2)),\n",
    "\n",
    "    Flatten(),\n",
    "    Dense(256, activation='relu'),\n",
    "    Dense(10, activation='softmax')\n",
    "])\n",
    "for i in op:\n",
    "  train_model(vgg16_model, i(learning_rate=0.001), \"VGG16\")"
   ]
  }
 ],
 "metadata": {
  "colab": {
   "provenance": []
  },
  "kernelspec": {
   "display_name": "Python 3 (ipykernel)",
   "language": "python",
   "name": "python3"
  },
  "language_info": {
   "codemirror_mode": {
    "name": "ipython",
    "version": 3
   },
   "file_extension": ".py",
   "mimetype": "text/x-python",
   "name": "python",
   "nbconvert_exporter": "python",
   "pygments_lexer": "ipython3",
   "version": "3.9.12"
  }
 },
 "nbformat": 4,
 "nbformat_minor": 1
}
